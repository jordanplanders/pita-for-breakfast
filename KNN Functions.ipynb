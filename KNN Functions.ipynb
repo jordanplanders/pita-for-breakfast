{
 "cells": [
  {
   "cell_type": "markdown",
   "metadata": {},
   "source": [
    "Machine Learning Models  \n",
    "\n",
    "In order to understand what happens under the hood when using ML libraries, the K Nearest Neighbors algorithm is built using loops, along with cross validation and confusion matrices "
   ]
  },
  {
   "cell_type": "code",
   "execution_count": 1,
   "metadata": {},
   "outputs": [],
   "source": [
    "\n",
    "# import modules\n",
    "from sklearn import datasets \n",
    "import numpy as np \n",
    "import matplotlib.pyplot as plt \n",
    "import pandas as pd\n",
    "from math import sqrt\n",
    "from random import randrange\n",
    "from random import seed\n",
    "import scipy.spatial\n",
    "from collections import Counter\n",
    "from sklearn.model_selection import train_test_split\n",
    "from sklearn.metrics import confusion_matrix\n",
    "%matplotlib inline "
   ]
  },
  {
   "cell_type": "code",
   "execution_count": 2,
   "metadata": {},
   "outputs": [],
   "source": [
    "mySeed=1234567 # seed for random number \n",
    "\n",
    "# load Iris dataset as easily accessible \n",
    "iris = datasets.load_iris() \n",
    "\n",
    "X = iris.data # acquire features\n",
    "y = iris.target # acquire targets\n",
    "#print(iris.DESCR)  #print dataset description\n",
    "\n",
    "# create noisy data \n",
    "np.random.seed(mySeed) \n",
    "X_Noise=X+np.random.normal(0,0.5,X.shape)"
   ]
  },
  {
   "cell_type": "code",
   "execution_count": 3,
   "metadata": {},
   "outputs": [],
   "source": [
    "# create functions to find Euclidean and Manhattan distances  \n",
    "\n",
    "def euclidean_distance(row1, row2):\n",
    "    row1, row2 = np.array(row1), np.array(row2)\n",
    "    distance = 0\n",
    "    for i in range(len(row1)-1):\n",
    "        distance += (row1[i] - row2[i])**2\n",
    "    return sqrt(distance)"
   ]
  },
  {
   "cell_type": "code",
   "execution_count": 4,
   "metadata": {},
   "outputs": [],
   "source": [
    "def manhattan(row1, row2): \n",
    "    dist = 0\n",
    "    for i in range(len(row1)):\n",
    "        dist = dist + abs(row1[i]-row2[i])\n",
    "    return dist;"
   ]
  },
  {
   "cell_type": "code",
   "execution_count": 5,
   "metadata": {},
   "outputs": [],
   "source": [
    "# Split into training and testing data \n",
    "\n",
    "arr_rand = np.random.rand(X.shape[0])\n",
    "    \n",
    "split = arr_rand < np.percentile(arr_rand, 75)\n",
    "\n",
    "X_train = X[split]\n",
    " \n",
    "y_train = y[split]\n",
    " \n",
    "X_test =  X[~split]\n",
    " \n",
    "y_test = y[~split]"
   ]
  },
  {
   "cell_type": "code",
   "execution_count": 8,
   "metadata": {},
   "outputs": [],
   "source": [
    "# Build KNN \n",
    "\n",
    "class KNN:\n",
    "    def __init__(self, k,):  # requires neighbors value input \n",
    "        self.k = k\n",
    "\n",
    "    def fit(self, X, y):\n",
    "        self.X_train = X\n",
    "        self.y_train = y\n",
    "  \n",
    "\n",
    "    def predict(self, X_test):\n",
    "        final_output = []  \n",
    "        for i in range(len(X_test)):  # iterate through the length of test data\n",
    "            d = []\n",
    "            votes = []\n",
    "            for j in range(len(X_train)):\n",
    "                dist = euclidean_distance(X_train[j] , X_test[i]) # acquire distance data/target\n",
    "                d.append([dist, j])\n",
    "            d.sort()\n",
    "            d = d[0:self.k]\n",
    "            for d, j in d:\n",
    "                votes.append(y_train[j])\n",
    "            ans = Counter(votes).most_common(1)[0][0]  # use counter for vote tally \n",
    "            final_output.append(ans)\n",
    "\n",
    "        return final_output\n",
    "\n",
    "    def score(self, X_test, y_test):\n",
    "        predictions = self.predict(X_test)\n",
    "        return (predictions == y_test).sum() / len(y_test)"
   ]
  },
  {
   "cell_type": "code",
   "execution_count": 9,
   "metadata": {},
   "outputs": [
    {
     "name": "stdout",
     "output_type": "stream",
     "text": [
      "0 0 0 0 0 0 0 0 0 0 0 0 0 1 1 2 1 1 1 1 1 1 1 1 1 2 2 1 2 2 2 2 2 2 2 2 2 2 \n",
      "0 0 0 0 0 0 0 0 0 0 0 0 0 1 1 1 1 1 1 1 1 1 1 1 1 2 2 2 2 2 2 2 2 2 2 2 2 2 "
     ]
    },
    {
     "data": {
      "text/plain": [
       "0.9473684210526315"
      ]
     },
     "execution_count": 9,
     "metadata": {},
     "output_type": "execute_result"
    }
   ],
   "source": [
    "# Test model with random k value \n",
    "\n",
    "clf = KNN(5)   \n",
    "clf.fit(X_train, y_train)\n",
    "prediction = clf.predict(X_test)\n",
    "for i in prediction:\n",
    "    print(i, end= ' ')\n",
    "print()     # get empty row \n",
    "for i in y_test:\n",
    "    print(i,end=' ')\n",
    "prediction == y_test\n",
    "\n",
    "clf.score(X_test, y_test)  # return a percentage accuracy "
   ]
  },
  {
   "cell_type": "code",
   "execution_count": 10,
   "metadata": {},
   "outputs": [],
   "source": [
    "# create confusion matrix from the KKN function \n",
    "\n",
    "def conf_matrix(actual, predicted):\n",
    "\n",
    "    classes = np.unique(actual) # extract the different classes\n",
    "    matrix = np.zeros((len(classes), len(classes)), dtype=int) # initialize the confusion matrix with zeros\n",
    "\n",
    "    for i in range(len(classes)):\n",
    "        for j in range(len(classes)):\n",
    "\n",
    "            matrix[i, j] = np.sum((actual == classes[i]) & (predicted == classes[j]))\n",
    "\n",
    "    return matrix"
   ]
  },
  {
   "cell_type": "code",
   "execution_count": 11,
   "metadata": {},
   "outputs": [
    {
     "data": {
      "text/html": [
       "<div>\n",
       "<style scoped>\n",
       "    .dataframe tbody tr th:only-of-type {\n",
       "        vertical-align: middle;\n",
       "    }\n",
       "\n",
       "    .dataframe tbody tr th {\n",
       "        vertical-align: top;\n",
       "    }\n",
       "\n",
       "    .dataframe thead th {\n",
       "        text-align: right;\n",
       "    }\n",
       "</style>\n",
       "<table border=\"1\" class=\"dataframe\">\n",
       "  <thead>\n",
       "    <tr style=\"text-align: right;\">\n",
       "      <th></th>\n",
       "      <th>0</th>\n",
       "      <th>1</th>\n",
       "      <th>2</th>\n",
       "    </tr>\n",
       "  </thead>\n",
       "  <tbody>\n",
       "    <tr>\n",
       "      <th>0</th>\n",
       "      <td>13</td>\n",
       "      <td>0</td>\n",
       "      <td>0</td>\n",
       "    </tr>\n",
       "    <tr>\n",
       "      <th>1</th>\n",
       "      <td>0</td>\n",
       "      <td>11</td>\n",
       "      <td>1</td>\n",
       "    </tr>\n",
       "    <tr>\n",
       "      <th>2</th>\n",
       "      <td>0</td>\n",
       "      <td>1</td>\n",
       "      <td>12</td>\n",
       "    </tr>\n",
       "  </tbody>\n",
       "</table>\n",
       "</div>"
      ],
      "text/plain": [
       "    0   1   2\n",
       "0  13   0   0\n",
       "1   0  11   1\n",
       "2   0   1  12"
      ]
     },
     "execution_count": 11,
     "metadata": {},
     "output_type": "execute_result"
    }
   ],
   "source": [
    "KNN_Matrix = pd.DataFrame(conf_matrix(y_test, prediction))\n",
    "KNN_Matrix"
   ]
  },
  {
   "cell_type": "code",
   "execution_count": 31,
   "metadata": {},
   "outputs": [
    {
     "data": {
      "text/plain": [
       "array([[13,  0,  0],\n",
       "       [ 0, 11,  1],\n",
       "       [ 0,  1, 12]], dtype=int64)"
      ]
     },
     "execution_count": 31,
     "metadata": {},
     "output_type": "execute_result"
    }
   ],
   "source": [
    "# check the result against sklearn \n",
    "confusion_matrix(y_test, prediction) "
   ]
  },
  {
   "cell_type": "code",
   "execution_count": 12,
   "metadata": {},
   "outputs": [],
   "source": [
    "# Create more intuitive matrix plot \n",
    "def plot_confusion_matrix(matrix, title='Confusion matrix', cmap=plt.cm.gray_r):\n",
    "    plt.matshow(matrix, cmap=cmap) # imshow\n",
    "    #plt.title(title)\n",
    "    plt.colorbar()\n",
    "    tick_marks = np.arange(len(matrix.columns))\n",
    "    plt.xticks(tick_marks, matrix.index)\n",
    "    plt.yticks(tick_marks, matrix.index)\n",
    "    #plt.tight_layout()\n",
    "    plt.ylabel('actual')\n",
    "    plt.xlabel('pred')"
   ]
  },
  {
   "cell_type": "code",
   "execution_count": 13,
   "metadata": {},
   "outputs": [
    {
     "data": {
      "image/png": "[encoded data removed]",
      "text/plain": [
       "<Figure size 288x288 with 2 Axes>"
      ]
     },
     "metadata": {
      "needs_background": "light"
     },
     "output_type": "display_data"
    }
   ],
   "source": [
    "plot_confusion_matrix(KNN_Matrix)"
   ]
  },
  {
   "cell_type": "code",
   "execution_count": 14,
   "metadata": {},
   "outputs": [],
   "source": [
    "# Dataframe for crossfold\n",
    "\n",
    "df= pd.DataFrame(data= np.c_[iris['data'], iris['target']],\n",
    "                 columns= iris['feature_names'] + ['target'])"
   ]
  },
  {
   "cell_type": "code",
   "execution_count": 15,
   "metadata": {},
   "outputs": [
    {
     "data": {
      "text/html": [
       "<div>\n",
       "<style scoped>\n",
       "    .dataframe tbody tr th:only-of-type {\n",
       "        vertical-align: middle;\n",
       "    }\n",
       "\n",
       "    .dataframe tbody tr th {\n",
       "        vertical-align: top;\n",
       "    }\n",
       "\n",
       "    .dataframe thead th {\n",
       "        text-align: right;\n",
       "    }\n",
       "</style>\n",
       "<table border=\"1\" class=\"dataframe\">\n",
       "  <thead>\n",
       "    <tr style=\"text-align: right;\">\n",
       "      <th></th>\n",
       "      <th>sepal length (cm)</th>\n",
       "      <th>sepal width (cm)</th>\n",
       "      <th>petal length (cm)</th>\n",
       "      <th>petal width (cm)</th>\n",
       "      <th>target</th>\n",
       "    </tr>\n",
       "  </thead>\n",
       "  <tbody>\n",
       "    <tr>\n",
       "      <th>0</th>\n",
       "      <td>5.1</td>\n",
       "      <td>3.5</td>\n",
       "      <td>1.4</td>\n",
       "      <td>0.2</td>\n",
       "      <td>0.0</td>\n",
       "    </tr>\n",
       "    <tr>\n",
       "      <th>1</th>\n",
       "      <td>4.9</td>\n",
       "      <td>3.0</td>\n",
       "      <td>1.4</td>\n",
       "      <td>0.2</td>\n",
       "      <td>0.0</td>\n",
       "    </tr>\n",
       "    <tr>\n",
       "      <th>2</th>\n",
       "      <td>4.7</td>\n",
       "      <td>3.2</td>\n",
       "      <td>1.3</td>\n",
       "      <td>0.2</td>\n",
       "      <td>0.0</td>\n",
       "    </tr>\n",
       "    <tr>\n",
       "      <th>3</th>\n",
       "      <td>4.6</td>\n",
       "      <td>3.1</td>\n",
       "      <td>1.5</td>\n",
       "      <td>0.2</td>\n",
       "      <td>0.0</td>\n",
       "    </tr>\n",
       "    <tr>\n",
       "      <th>4</th>\n",
       "      <td>5.0</td>\n",
       "      <td>3.6</td>\n",
       "      <td>1.4</td>\n",
       "      <td>0.2</td>\n",
       "      <td>0.0</td>\n",
       "    </tr>\n",
       "  </tbody>\n",
       "</table>\n",
       "</div>"
      ],
      "text/plain": [
       "   sepal length (cm)  sepal width (cm)  petal length (cm)  petal width (cm)  \\\n",
       "0                5.1               3.5                1.4               0.2   \n",
       "1                4.9               3.0                1.4               0.2   \n",
       "2                4.7               3.2                1.3               0.2   \n",
       "3                4.6               3.1                1.5               0.2   \n",
       "4                5.0               3.6                1.4               0.2   \n",
       "\n",
       "   target  \n",
       "0     0.0  \n",
       "1     0.0  \n",
       "2     0.0  \n",
       "3     0.0  \n",
       "4     0.0  "
      ]
     },
     "execution_count": 15,
     "metadata": {},
     "output_type": "execute_result"
    }
   ],
   "source": [
    "df.head()"
   ]
  },
  {
   "cell_type": "code",
   "execution_count": 16,
   "metadata": {},
   "outputs": [],
   "source": [
    "# create function for cross fold split\n",
    "\n",
    "def cross_validation_split(dataset, folds):  # requires input of dataframe and numnder of folds \n",
    "        dataset_split = []\n",
    "        df_copy = dataset\n",
    "        fold_size = int(df_copy.shape[0] / folds)\n",
    "        \n",
    "        # for loop to save each fold\n",
    "        for i in range(folds):\n",
    "            fold = []\n",
    "            # while loop to add elements to the folds\n",
    "            while len(fold) < fold_size:  # keep within fold size\n",
    "                # select a random element\n",
    "                r = randrange(df_copy.shape[0])\n",
    "                # determine the index of this element \n",
    "                index = df_copy.index[r]\n",
    "                # save the randomly selected line \n",
    "                fold.append(df_copy.loc[index].values.tolist())\n",
    "                # delete the randomly selected line from so is only taken once\n",
    "                \n",
    "                df_copy = df_copy.drop(index)\n",
    "            # save the fold     \n",
    "            dataset_split.append(np.asarray(fold))\n",
    "            \n",
    "        return dataset_split "
   ]
  },
  {
   "cell_type": "code",
   "execution_count": 231,
   "metadata": {
    "collapsed": true
   },
   "outputs": [
    {
     "data": {
      "text/plain": [
       "[array([[6.8, 3.2, 5.9, 2.3, 2. ],\n",
       "        [6.3, 2.5, 4.9, 1.5, 1. ],\n",
       "        [5.2, 3.4, 1.4, 0.2, 0. ],\n",
       "        [4.8, 3. , 1.4, 0.1, 0. ],\n",
       "        [5.1, 3.4, 1.5, 0.2, 0. ],\n",
       "        [5.7, 2.9, 4.2, 1.3, 1. ],\n",
       "        [7.7, 2.6, 6.9, 2.3, 2. ],\n",
       "        [5.8, 2.8, 5.1, 2.4, 2. ],\n",
       "        [6.3, 3.3, 6. , 2.5, 2. ],\n",
       "        [7.1, 3. , 5.9, 2.1, 2. ],\n",
       "        [6.2, 2.2, 4.5, 1.5, 1. ],\n",
       "        [6.8, 3. , 5.5, 2.1, 2. ],\n",
       "        [4.9, 3. , 1.4, 0.2, 0. ],\n",
       "        [7. , 3.2, 4.7, 1.4, 1. ],\n",
       "        [6.2, 3.4, 5.4, 2.3, 2. ],\n",
       "        [6.8, 2.8, 4.8, 1.4, 1. ],\n",
       "        [5.6, 3. , 4.5, 1.5, 1. ],\n",
       "        [6.7, 3.1, 5.6, 2.4, 2. ],\n",
       "        [5.6, 2.8, 4.9, 2. , 2. ],\n",
       "        [5. , 3.3, 1.4, 0.2, 0. ],\n",
       "        [5.8, 2.7, 3.9, 1.2, 1. ],\n",
       "        [5.8, 2.7, 5.1, 1.9, 2. ],\n",
       "        [6.4, 2.8, 5.6, 2.1, 2. ],\n",
       "        [4.6, 3.1, 1.5, 0.2, 0. ],\n",
       "        [7.2, 3.2, 6. , 1.8, 2. ],\n",
       "        [6.9, 3.1, 5.4, 2.1, 2. ],\n",
       "        [6.2, 2.9, 4.3, 1.3, 1. ],\n",
       "        [4.9, 3.1, 1.5, 0.1, 0. ],\n",
       "        [4.7, 3.2, 1.3, 0.2, 0. ],\n",
       "        [6.3, 3.3, 4.7, 1.6, 1. ]]),\n",
       " array([[5.2, 4.1, 1.5, 0.1, 0. ],\n",
       "        [4.6, 3.6, 1. , 0.2, 0. ],\n",
       "        [5.1, 3.7, 1.5, 0.4, 0. ],\n",
       "        [5.9, 3. , 5.1, 1.8, 2. ],\n",
       "        [5.7, 3. , 4.2, 1.2, 1. ],\n",
       "        [6. , 2.9, 4.5, 1.5, 1. ],\n",
       "        [6.7, 3.1, 4.4, 1.4, 1. ],\n",
       "        [6.2, 2.8, 4.8, 1.8, 2. ],\n",
       "        [7.3, 2.9, 6.3, 1.8, 2. ],\n",
       "        [6.1, 2.8, 4. , 1.3, 1. ],\n",
       "        [5.7, 2.5, 5. , 2. , 2. ],\n",
       "        [6.5, 3. , 5.8, 2.2, 2. ],\n",
       "        [5.5, 2.6, 4.4, 1.2, 1. ],\n",
       "        [6.4, 3.1, 5.5, 1.8, 2. ],\n",
       "        [5.8, 2.6, 4. , 1.2, 1. ],\n",
       "        [4.4, 2.9, 1.4, 0.2, 0. ],\n",
       "        [5.4, 3.4, 1.5, 0.4, 0. ],\n",
       "        [5.9, 3.2, 4.8, 1.8, 1. ],\n",
       "        [6.7, 3. , 5. , 1.7, 1. ],\n",
       "        [6.9, 3.2, 5.7, 2.3, 2. ],\n",
       "        [5.5, 3.5, 1.3, 0.2, 0. ],\n",
       "        [6.3, 2.3, 4.4, 1.3, 1. ],\n",
       "        [6.7, 2.5, 5.8, 1.8, 2. ],\n",
       "        [5.8, 2.7, 4.1, 1. , 1. ],\n",
       "        [5.7, 4.4, 1.5, 0.4, 0. ],\n",
       "        [6.1, 2.6, 5.6, 1.4, 2. ],\n",
       "        [6.1, 2.9, 4.7, 1.4, 1. ],\n",
       "        [5.4, 3. , 4.5, 1.5, 1. ],\n",
       "        [5.3, 3.7, 1.5, 0.2, 0. ],\n",
       "        [5.2, 2.7, 3.9, 1.4, 1. ]]),\n",
       " array([[6.6, 3. , 4.4, 1.4, 1. ],\n",
       "        [6.5, 2.8, 4.6, 1.5, 1. ],\n",
       "        [6. , 3.4, 4.5, 1.6, 1. ],\n",
       "        [6.1, 3. , 4.9, 1.8, 2. ],\n",
       "        [5.6, 2.5, 3.9, 1.1, 1. ],\n",
       "        [5.5, 4.2, 1.4, 0.2, 0. ],\n",
       "        [5.7, 2.6, 3.5, 1. , 1. ],\n",
       "        [5. , 3.5, 1.3, 0.3, 0. ],\n",
       "        [6.5, 3.2, 5.1, 2. , 2. ],\n",
       "        [4.6, 3.4, 1.4, 0.3, 0. ],\n",
       "        [6.4, 3.2, 5.3, 2.3, 2. ],\n",
       "        [7.2, 3. , 5.8, 1.6, 2. ],\n",
       "        [5.5, 2.4, 3.7, 1. , 1. ],\n",
       "        [5.1, 3.3, 1.7, 0.5, 0. ],\n",
       "        [7.9, 3.8, 6.4, 2. , 2. ],\n",
       "        [5.2, 3.5, 1.5, 0.2, 0. ],\n",
       "        [5.1, 3.8, 1.6, 0.2, 0. ],\n",
       "        [4.5, 2.3, 1.3, 0.3, 0. ],\n",
       "        [5.8, 2.7, 5.1, 1.9, 2. ],\n",
       "        [6.7, 3. , 5.2, 2.3, 2. ],\n",
       "        [4.8, 3.1, 1.6, 0.2, 0. ],\n",
       "        [4.9, 2.5, 4.5, 1.7, 2. ],\n",
       "        [6.5, 3. , 5.5, 1.8, 2. ],\n",
       "        [4.8, 3. , 1.4, 0.3, 0. ],\n",
       "        [5.1, 3.8, 1.5, 0.3, 0. ],\n",
       "        [5.4, 3.9, 1.3, 0.4, 0. ],\n",
       "        [7.4, 2.8, 6.1, 1.9, 2. ],\n",
       "        [5. , 3.4, 1.6, 0.4, 0. ],\n",
       "        [6. , 2.2, 4. , 1. , 1. ],\n",
       "        [4.3, 3. , 1.1, 0.1, 0. ]]),\n",
       " array([[6. , 2.2, 5. , 1.5, 2. ],\n",
       "        [5.5, 2.4, 3.8, 1.1, 1. ],\n",
       "        [6.3, 2.8, 5.1, 1.5, 2. ],\n",
       "        [5. , 3.4, 1.5, 0.2, 0. ],\n",
       "        [7.6, 3. , 6.6, 2.1, 2. ],\n",
       "        [7.7, 2.8, 6.7, 2. , 2. ],\n",
       "        [6.4, 2.9, 4.3, 1.3, 1. ],\n",
       "        [4.9, 3.6, 1.4, 0.1, 0. ],\n",
       "        [5.6, 3. , 4.1, 1.3, 1. ],\n",
       "        [5.8, 4. , 1.2, 0.2, 0. ],\n",
       "        [5. , 3. , 1.6, 0.2, 0. ],\n",
       "        [6.4, 2.8, 5.6, 2.2, 2. ],\n",
       "        [4.4, 3.2, 1.3, 0.2, 0. ],\n",
       "        [5.1, 3.8, 1.9, 0.4, 0. ],\n",
       "        [5.7, 3.8, 1.7, 0.3, 0. ],\n",
       "        [4.6, 3.2, 1.4, 0.2, 0. ],\n",
       "        [6.4, 3.2, 4.5, 1.5, 1. ],\n",
       "        [6.3, 2.5, 5. , 1.9, 2. ],\n",
       "        [5.5, 2.5, 4. , 1.3, 1. ],\n",
       "        [5. , 3.5, 1.6, 0.6, 0. ],\n",
       "        [6. , 3. , 4.8, 1.8, 2. ],\n",
       "        [4.8, 3.4, 1.9, 0.2, 0. ],\n",
       "        [5.1, 3.5, 1.4, 0.2, 0. ],\n",
       "        [6. , 2.7, 5.1, 1.6, 1. ],\n",
       "        [5.7, 2.8, 4.1, 1.3, 1. ],\n",
       "        [5. , 3.6, 1.4, 0.2, 0. ],\n",
       "        [5.6, 2.7, 4.2, 1.3, 1. ],\n",
       "        [6.9, 3.1, 4.9, 1.5, 1. ],\n",
       "        [4.9, 2.4, 3.3, 1. , 1. ],\n",
       "        [6.4, 2.7, 5.3, 1.9, 2. ]]),\n",
       " array([[5.5, 2.3, 4. , 1.3, 1. ],\n",
       "        [6.3, 3.4, 5.6, 2.4, 2. ],\n",
       "        [6.7, 3.3, 5.7, 2.1, 2. ],\n",
       "        [7.7, 3.8, 6.7, 2.2, 2. ],\n",
       "        [5. , 2. , 3.5, 1. , 1. ],\n",
       "        [4.9, 3.1, 1.5, 0.2, 0. ],\n",
       "        [5. , 3.2, 1.2, 0.2, 0. ],\n",
       "        [6.3, 2.7, 4.9, 1.8, 2. ],\n",
       "        [6.7, 3.1, 4.7, 1.5, 1. ],\n",
       "        [7.7, 3. , 6.1, 2.3, 2. ],\n",
       "        [4.8, 3.4, 1.6, 0.2, 0. ],\n",
       "        [7.2, 3.6, 6.1, 2.5, 2. ],\n",
       "        [5.1, 2.5, 3. , 1.1, 1. ],\n",
       "        [6.6, 2.9, 4.6, 1.3, 1. ],\n",
       "        [5.9, 3. , 4.2, 1.5, 1. ],\n",
       "        [6.9, 3.1, 5.1, 2.3, 2. ],\n",
       "        [5.4, 3.9, 1.7, 0.4, 0. ],\n",
       "        [5.1, 3.5, 1.4, 0.3, 0. ],\n",
       "        [4.4, 3. , 1.3, 0.2, 0. ],\n",
       "        [5.4, 3.7, 1.5, 0.2, 0. ],\n",
       "        [6.7, 3.3, 5.7, 2.5, 2. ],\n",
       "        [5.4, 3.4, 1.7, 0.2, 0. ],\n",
       "        [6.1, 2.8, 4.7, 1.2, 1. ],\n",
       "        [5.6, 2.9, 3.6, 1.3, 1. ],\n",
       "        [6.5, 3. , 5.2, 2. , 2. ],\n",
       "        [4.7, 3.2, 1.6, 0.2, 0. ],\n",
       "        [6.3, 2.9, 5.6, 1.8, 2. ],\n",
       "        [5. , 2.3, 3.3, 1. , 1. ],\n",
       "        [6.1, 3. , 4.6, 1.4, 1. ],\n",
       "        [5.7, 2.8, 4.5, 1.3, 1. ]])]"
      ]
     },
     "execution_count": 231,
     "metadata": {},
     "output_type": "execute_result"
    }
   ],
   "source": [
    "cross_validation_split(df, 5) # check function "
   ]
  },
  {
   "cell_type": "code",
   "execution_count": 17,
   "metadata": {},
   "outputs": [],
   "source": [
    "# Additional KNN approach for CV use \n",
    "\n",
    "def KNN3(X_train,y_train, X_test, k, dist,q=2): \n",
    "    pred = [] # collect predicts\n",
    "    \n",
    "    if isinstance(X_test, np.ndarray):\n",
    "        X_test=pd.DataFrame(X_test)\n",
    "    if isinstance(X_train, np.ndarray):\n",
    "        X_train=pd.DataFrame(X_train) \n",
    "        \n",
    "    for i in range(len(X_test)):    \n",
    "        # Calculating distances for our test point\n",
    "        newdist = np.zeros(len(y_train))\n",
    "\n",
    "        for j in range(len(y_train)):\n",
    "            newdist[j] = dist(X_train.iloc[j,:], X_test.iloc[i,:]) # call distance function\n",
    "    \n",
    "        # Merge 'actuals' + distance\n",
    "        newdist = np.array([newdist, y_train])\n",
    "\n",
    "        idx = np.argsort(newdist[0,:]) # get closest neighbours + reindex\n",
    "\n",
    "        # Sorting new distances\n",
    "        newdist = newdist[:,idx]\n",
    "        \n",
    "        c = {'0':0,'1':0,'2':0 } # collect + count K labels to determine max\n",
    "         \n",
    "        for j in range(k):\n",
    "            c[str(int(newdist[1,j]))] = c[str(int(newdist[1,j]))] + 1\n",
    "\n",
    "        key_max = max(c.keys(), key=(lambda k: c[k]))\n",
    "        pred.append(int(key_max))\n",
    "        \n",
    "    return pred"
   ]
  },
  {
   "cell_type": "code",
   "execution_count": 22,
   "metadata": {},
   "outputs": [],
   "source": [
    "def kfoldCV(dataset, f=5, k=5):  # takes in dataset, fold, and neighbours \n",
    "    data=cross_validation_split(df,f) # take from datasplit function\n",
    "    result=[]\n",
    "    # determine training and test sets \n",
    "    for i in range(f):\n",
    "        r = list(range(f))\n",
    "        r.pop(i)  # grabs last value\n",
    "        for j in r :      # iterate through folds\n",
    "            if j == r[0]:\n",
    "                cv = data[j]\n",
    "            else:    \n",
    "                cv=np.concatenate((cv,data[j]), axis=0)\n",
    "        \n",
    "        global test\n",
    "        test = KNN3(cv[:,0:4],cv[:,4],data[i][:,0:4],k, euclidean_distance) # using previous KNN, using 5\n",
    "        # array, target \n",
    "        acc=(test == data[i][:,4]).sum() # summing where predictions were correct\n",
    "        result.append(acc/len(test))    # divide by total test number for accuracy value\n",
    "        \n",
    "        global idk\n",
    "        idk=[]\n",
    "        for i in range(f):\n",
    "            idk.append(data[i][:,4]) # get predictions for conf matrix \n",
    "        \n",
    "    return result"
   ]
  },
  {
   "cell_type": "code",
   "execution_count": 23,
   "metadata": {},
   "outputs": [
    {
     "data": {
      "text/plain": [
       "[0.9333333333333333,\n",
       " 0.9333333333333333,\n",
       " 0.9666666666666667,\n",
       " 0.9333333333333333,\n",
       " 1.0]"
      ]
     },
     "execution_count": 23,
     "metadata": {},
     "output_type": "execute_result"
    }
   ],
   "source": [
    "kfoldCV(df, f=5, k=5) # returns list of accuracies "
   ]
  },
  {
   "cell_type": "code",
   "execution_count": 24,
   "metadata": {},
   "outputs": [],
   "source": [
    "# create noisy dataset\n",
    "mu, sigma = 0, 0.1 \n",
    "noise = np.random.normal(mu, sigma, [150,5])"
   ]
  },
  {
   "cell_type": "code",
   "execution_count": 25,
   "metadata": {},
   "outputs": [],
   "source": [
    "df_noise = df + noise"
   ]
  },
  {
   "cell_type": "code",
   "execution_count": 26,
   "metadata": {},
   "outputs": [],
   "source": [
    "mycols = (kfoldCV(df_noise, f=5, k=5))"
   ]
  },
  {
   "cell_type": "code",
   "execution_count": 40,
   "metadata": {},
   "outputs": [],
   "source": [
    "# run crossfold for clean dataset with random values and distance types\n",
    "# for thorough exploration would loop through number range/distance, PC currently limited \n",
    "\n",
    "CleanA=[]  # empty list to append \n",
    "CleanA.append((kfoldCV(df, f=5, k=5))[0]) # fold 1, k=5, E\n",
    "CleanA.append((kfoldCV(df, f=5, k=3))[1])  #f2 Euclidean\n",
    "CleanA.append((kfoldCV(df, f=5, k=7))[2]) #f3  Manhattan \n",
    "CleanA.append((kfoldCV(df, f=5, k=10))[3]) # f4 Eclidean\n",
    "CleanA.append((kfoldCV(df, f=5, k=3))[4]) # f5 Manhattan "
   ]
  },
  {
   "cell_type": "code",
   "execution_count": 41,
   "metadata": {},
   "outputs": [
    {
     "data": {
      "text/plain": [
       "[0.9666666666666667,\n",
       " 0.9333333333333333,\n",
       " 0.9666666666666667,\n",
       " 0.9333333333333333,\n",
       " 0.9333333333333333]"
      ]
     },
     "execution_count": 41,
     "metadata": {},
     "output_type": "execute_result"
    }
   ],
   "source": [
    "CleanA # check values"
   ]
  },
  {
   "cell_type": "code",
   "execution_count": 42,
   "metadata": {},
   "outputs": [],
   "source": [
    "FoldNo=[1,2,3,4,5]\n",
    "kNo=[5,3,7,10,4]\n",
    "Accuracy = CleanA\n",
    "DisType = ['E','E','M','E','M']"
   ]
  },
  {
   "cell_type": "code",
   "execution_count": 43,
   "metadata": {},
   "outputs": [],
   "source": [
    "dict = {'Fold': FoldNo, 'Accuracy': CleanA, 'k': kNo, 'Distance':DisType} "
   ]
  },
  {
   "cell_type": "code",
   "execution_count": 44,
   "metadata": {},
   "outputs": [
    {
     "data": {
      "text/html": [
       "<div>\n",
       "<style scoped>\n",
       "    .dataframe tbody tr th:only-of-type {\n",
       "        vertical-align: middle;\n",
       "    }\n",
       "\n",
       "    .dataframe tbody tr th {\n",
       "        vertical-align: top;\n",
       "    }\n",
       "\n",
       "    .dataframe thead th {\n",
       "        text-align: right;\n",
       "    }\n",
       "</style>\n",
       "<table border=\"1\" class=\"dataframe\">\n",
       "  <thead>\n",
       "    <tr style=\"text-align: right;\">\n",
       "      <th></th>\n",
       "      <th>Fold</th>\n",
       "      <th>Accuracy</th>\n",
       "      <th>k</th>\n",
       "      <th>Distance</th>\n",
       "    </tr>\n",
       "  </thead>\n",
       "  <tbody>\n",
       "    <tr>\n",
       "      <th>0</th>\n",
       "      <td>1</td>\n",
       "      <td>0.966667</td>\n",
       "      <td>5</td>\n",
       "      <td>E</td>\n",
       "    </tr>\n",
       "    <tr>\n",
       "      <th>1</th>\n",
       "      <td>2</td>\n",
       "      <td>0.933333</td>\n",
       "      <td>3</td>\n",
       "      <td>E</td>\n",
       "    </tr>\n",
       "    <tr>\n",
       "      <th>2</th>\n",
       "      <td>3</td>\n",
       "      <td>0.966667</td>\n",
       "      <td>7</td>\n",
       "      <td>M</td>\n",
       "    </tr>\n",
       "    <tr>\n",
       "      <th>3</th>\n",
       "      <td>4</td>\n",
       "      <td>0.933333</td>\n",
       "      <td>10</td>\n",
       "      <td>E</td>\n",
       "    </tr>\n",
       "    <tr>\n",
       "      <th>4</th>\n",
       "      <td>5</td>\n",
       "      <td>0.933333</td>\n",
       "      <td>4</td>\n",
       "      <td>M</td>\n",
       "    </tr>\n",
       "  </tbody>\n",
       "</table>\n",
       "</div>"
      ],
      "text/plain": [
       "   Fold  Accuracy   k Distance\n",
       "0     1  0.966667   5        E\n",
       "1     2  0.933333   3        E\n",
       "2     3  0.966667   7        M\n",
       "3     4  0.933333  10        E\n",
       "4     5  0.933333   4        M"
      ]
     },
     "execution_count": 44,
     "metadata": {},
     "output_type": "execute_result"
    }
   ],
   "source": [
    "CleanSummary = pd.DataFrame(dict)\n",
    "CleanSummary"
   ]
  },
  {
   "cell_type": "code",
   "execution_count": 38,
   "metadata": {},
   "outputs": [],
   "source": [
    "CleanSummary.loc['Total'] = pd.Series(CleanSummary['Accuracy'].sum()/5, index=['Accuracy'])\n",
    "CleanSummary.loc['SD'] = pd.Series(CleanSummary.loc[:,\"Accuracy\"].std(), index=['Accuracy'])"
   ]
  },
  {
   "cell_type": "code",
   "execution_count": 39,
   "metadata": {},
   "outputs": [
    {
     "data": {
      "text/html": [
       "<div>\n",
       "<style scoped>\n",
       "    .dataframe tbody tr th:only-of-type {\n",
       "        vertical-align: middle;\n",
       "    }\n",
       "\n",
       "    .dataframe tbody tr th {\n",
       "        vertical-align: top;\n",
       "    }\n",
       "\n",
       "    .dataframe thead th {\n",
       "        text-align: right;\n",
       "    }\n",
       "</style>\n",
       "<table border=\"1\" class=\"dataframe\">\n",
       "  <thead>\n",
       "    <tr style=\"text-align: right;\">\n",
       "      <th></th>\n",
       "      <th>Fold</th>\n",
       "      <th>Accuracy</th>\n",
       "      <th>k</th>\n",
       "      <th>Distance</th>\n",
       "    </tr>\n",
       "  </thead>\n",
       "  <tbody>\n",
       "    <tr>\n",
       "      <th>0</th>\n",
       "      <td>1.0</td>\n",
       "      <td>1.000000</td>\n",
       "      <td>5.0</td>\n",
       "      <td>E</td>\n",
       "    </tr>\n",
       "    <tr>\n",
       "      <th>1</th>\n",
       "      <td>2.0</td>\n",
       "      <td>0.900000</td>\n",
       "      <td>3.0</td>\n",
       "      <td>E</td>\n",
       "    </tr>\n",
       "    <tr>\n",
       "      <th>2</th>\n",
       "      <td>3.0</td>\n",
       "      <td>0.933333</td>\n",
       "      <td>7.0</td>\n",
       "      <td>M</td>\n",
       "    </tr>\n",
       "    <tr>\n",
       "      <th>3</th>\n",
       "      <td>4.0</td>\n",
       "      <td>0.966667</td>\n",
       "      <td>10.0</td>\n",
       "      <td>E</td>\n",
       "    </tr>\n",
       "    <tr>\n",
       "      <th>4</th>\n",
       "      <td>5.0</td>\n",
       "      <td>0.966667</td>\n",
       "      <td>4.0</td>\n",
       "      <td>M</td>\n",
       "    </tr>\n",
       "    <tr>\n",
       "      <th>Total</th>\n",
       "      <td>NaN</td>\n",
       "      <td>0.953333</td>\n",
       "      <td>NaN</td>\n",
       "      <td>NaN</td>\n",
       "    </tr>\n",
       "    <tr>\n",
       "      <th>SD</th>\n",
       "      <td>NaN</td>\n",
       "      <td>0.033993</td>\n",
       "      <td>NaN</td>\n",
       "      <td>NaN</td>\n",
       "    </tr>\n",
       "  </tbody>\n",
       "</table>\n",
       "</div>"
      ],
      "text/plain": [
       "       Fold  Accuracy     k Distance\n",
       "0       1.0  1.000000   5.0        E\n",
       "1       2.0  0.900000   3.0        E\n",
       "2       3.0  0.933333   7.0        M\n",
       "3       4.0  0.966667  10.0        E\n",
       "4       5.0  0.966667   4.0        M\n",
       "Total   NaN  0.953333   NaN      NaN\n",
       "SD      NaN  0.033993   NaN      NaN"
      ]
     },
     "execution_count": 39,
     "metadata": {},
     "output_type": "execute_result"
    }
   ],
   "source": [
    "CleanSummary"
   ]
  },
  {
   "cell_type": "code",
   "execution_count": 45,
   "metadata": {},
   "outputs": [],
   "source": [
    "# repeat for noisy dataset \n",
    "NoiseA=[] # empty list\n",
    "NoiseA.append((kfoldCV(df_noise, f=5, k=5))[0]) # fold 1, k=5, Euclidean\n",
    "NoiseA.append((kfoldCV(df_noise, f=5, k=3))[1])  #f2 E\n",
    "NoiseA.append((kfoldCV(df_noise, f=5, k=7))[2]) #f3 Manhattan \n",
    "NoiseA.append((kfoldCV(df_noise, f=5, k=10))[3]) # f4 Euclidean\n",
    "NoiseA.append((kfoldCV(df_noise, f=5, k=3))[4]) # f5 Manhattan "
   ]
  },
  {
   "cell_type": "code",
   "execution_count": 46,
   "metadata": {},
   "outputs": [
    {
     "data": {
      "text/plain": [
       "[0.9, 0.9333333333333333, 0.9333333333333333, 0.9, 0.9333333333333333]"
      ]
     },
     "execution_count": 46,
     "metadata": {},
     "output_type": "execute_result"
    }
   ],
   "source": [
    "NoiseA # check putput"
   ]
  },
  {
   "cell_type": "code",
   "execution_count": 47,
   "metadata": {},
   "outputs": [
    {
     "data": {
      "text/html": [
       "<div>\n",
       "<style scoped>\n",
       "    .dataframe tbody tr th:only-of-type {\n",
       "        vertical-align: middle;\n",
       "    }\n",
       "\n",
       "    .dataframe tbody tr th {\n",
       "        vertical-align: top;\n",
       "    }\n",
       "\n",
       "    .dataframe thead th {\n",
       "        text-align: right;\n",
       "    }\n",
       "</style>\n",
       "<table border=\"1\" class=\"dataframe\">\n",
       "  <thead>\n",
       "    <tr style=\"text-align: right;\">\n",
       "      <th></th>\n",
       "      <th>Fold</th>\n",
       "      <th>Accuracy</th>\n",
       "      <th>k</th>\n",
       "      <th>Distance</th>\n",
       "    </tr>\n",
       "  </thead>\n",
       "  <tbody>\n",
       "    <tr>\n",
       "      <th>0</th>\n",
       "      <td>1.0</td>\n",
       "      <td>0.900000</td>\n",
       "      <td>5.0</td>\n",
       "      <td>E</td>\n",
       "    </tr>\n",
       "    <tr>\n",
       "      <th>1</th>\n",
       "      <td>2.0</td>\n",
       "      <td>0.933333</td>\n",
       "      <td>3.0</td>\n",
       "      <td>E</td>\n",
       "    </tr>\n",
       "    <tr>\n",
       "      <th>2</th>\n",
       "      <td>3.0</td>\n",
       "      <td>0.933333</td>\n",
       "      <td>7.0</td>\n",
       "      <td>M</td>\n",
       "    </tr>\n",
       "    <tr>\n",
       "      <th>3</th>\n",
       "      <td>4.0</td>\n",
       "      <td>0.900000</td>\n",
       "      <td>10.0</td>\n",
       "      <td>E</td>\n",
       "    </tr>\n",
       "    <tr>\n",
       "      <th>4</th>\n",
       "      <td>5.0</td>\n",
       "      <td>0.933333</td>\n",
       "      <td>4.0</td>\n",
       "      <td>M</td>\n",
       "    </tr>\n",
       "    <tr>\n",
       "      <th>Total</th>\n",
       "      <td>NaN</td>\n",
       "      <td>0.920000</td>\n",
       "      <td>NaN</td>\n",
       "      <td>NaN</td>\n",
       "    </tr>\n",
       "    <tr>\n",
       "      <th>SD</th>\n",
       "      <td>NaN</td>\n",
       "      <td>0.016330</td>\n",
       "      <td>NaN</td>\n",
       "      <td>NaN</td>\n",
       "    </tr>\n",
       "  </tbody>\n",
       "</table>\n",
       "</div>"
      ],
      "text/plain": [
       "       Fold  Accuracy     k Distance\n",
       "0       1.0  0.900000   5.0        E\n",
       "1       2.0  0.933333   3.0        E\n",
       "2       3.0  0.933333   7.0        M\n",
       "3       4.0  0.900000  10.0        E\n",
       "4       5.0  0.933333   4.0        M\n",
       "Total   NaN  0.920000   NaN      NaN\n",
       "SD      NaN  0.016330   NaN      NaN"
      ]
     },
     "execution_count": 47,
     "metadata": {},
     "output_type": "execute_result"
    }
   ],
   "source": [
    "dict2 = {'Fold': FoldNo, 'Accuracy': NoiseA, 'k': kNo, 'Distance':DisType} \n",
    "NoiseSummary = pd.DataFrame(dict2)\n",
    "NoiseSummary.loc['Total'] = pd.Series(NoiseSummary['Accuracy'].sum()/5, index=['Accuracy'])\n",
    "NoiseSummary.loc['SD'] = pd.Series(NoiseSummary.loc[:,\"Accuracy\"].std(), index=['Accuracy'])\n",
    "NoiseSummary"
   ]
  },
  {
   "cell_type": "code",
   "execution_count": 48,
   "metadata": {},
   "outputs": [],
   "source": [
    "idk2=pd.DataFrame(idk) # alter datatype for matrix plot"
   ]
  },
  {
   "cell_type": "code",
   "execution_count": 49,
   "metadata": {},
   "outputs": [],
   "source": [
    "test2=pd.Series(test)  # alter datatype for matrix plot"
   ]
  },
  {
   "cell_type": "code",
   "execution_count": 50,
   "metadata": {
    "collapsed": true
   },
   "outputs": [
    {
     "name": "stdout",
     "output_type": "stream",
     "text": [
      "Predicted  0.0  1.0  2.0  All\n",
      "Actual                       \n",
      "0            1    9    1   11\n",
      "1            1    5    3    9\n",
      "2            2    4    4   10\n",
      "All          4   18    8   30\n",
      "Predicted  0.0  1.0  2.0  All\n",
      "Actual                       \n",
      "0            5    4    2   11\n",
      "1            3    4    2    9\n",
      "2            2    3    5   10\n",
      "All         10   11    9   30\n",
      "Predicted  0.0  1.0  2.0  All\n",
      "Actual                       \n",
      "0            6    3    2   11\n",
      "1            6    1    2    9\n",
      "2            4    2    4   10\n",
      "All         16    6    8   30\n",
      "Predicted  0.0  1.0  2.0  All\n",
      "Actual                       \n",
      "0            4    2    5   11\n",
      "1            4    4    1    9\n",
      "2            1    2    7   10\n",
      "All          9    8   13   30\n",
      "Predicted  0.0  1.0  2.0  All\n",
      "Actual                       \n",
      "0           11    0    0   11\n",
      "1            0    7    2    9\n",
      "2            0    0   10   10\n",
      "All         11    7   12   30\n"
     ]
    }
   ],
   "source": [
    "for n in range(0,5):\n",
    "    matrix_test = pd.crosstab(test2, idk2.iloc[n], rownames=['Actual'], colnames=['Predicted'], margins=True)\n",
    "    print (pd.DataFrame(matrix_test))"
   ]
  },
  {
   "cell_type": "code",
   "execution_count": 51,
   "metadata": {},
   "outputs": [],
   "source": [
    "def plot_confusion_matrix(df_confusion, title='Confusion matrix', cmap=plt.cm.gray_r):\n",
    "    plt.matshow(df_confusion, cmap=cmap) # imshow\n",
    "    #plt.title(title)\n",
    "    plt.colorbar()\n",
    "    tick_marks = np.arange(len(df_confusion.columns))\n",
    "    plt.xticks(tick_marks, df_confusion.index)\n",
    "    plt.yticks(tick_marks, df_confusion.index)\n",
    "    #plt.tight_layout()\n",
    "    plt.ylabel('actual')\n",
    "    plt.xlabel('pred')"
   ]
  },
  {
   "cell_type": "code",
   "execution_count": 52,
   "metadata": {},
   "outputs": [
    {
     "data": {
      "image/png": "[encoded data removed]",
      "text/plain": [
       "<Figure size 288x288 with 2 Axes>"
      ]
     },
     "metadata": {
      "needs_background": "light"
     },
     "output_type": "display_data"
    },
    {
     "data": {
      "image/png": "[encoded data removed]",
      "text/plain": [
       "<Figure size 288x288 with 2 Axes>"
      ]
     },
     "metadata": {
      "needs_background": "light"
     },
     "output_type": "display_data"
    },
    {
     "data": {
      "image/png": "[encoded data removed]",
      "text/plain": [
       "<Figure size 288x288 with 2 Axes>"
      ]
     },
     "metadata": {
      "needs_background": "light"
     },
     "output_type": "display_data"
    },
    {
     "data": {
      "image/png": "[encoded data removed]",
      "text/plain": [
       "<Figure size 288x288 with 2 Axes>"
      ]
     },
     "metadata": {
      "needs_background": "light"
     },
     "output_type": "display_data"
    },
    {
     "data": {
      "image/png": "[encoded data removed]",
      "text/plain": [
       "<Figure size 288x288 with 2 Axes>"
      ]
     },
     "metadata": {
      "needs_background": "light"
     },
     "output_type": "display_data"
    }
   ],
   "source": [
    "# create confusion matrices for clean dataset crossfold \n",
    "\n",
    "for n in range(0,5):\n",
    "    matrix_clean = pd.crosstab(test2, idk2.iloc[n])\n",
    "    plot_confusion_matrix(matrix_clean, title='Confusion matrix', cmap=plt.cm.gray_r)"
   ]
  },
  {
   "cell_type": "code",
   "execution_count": 53,
   "metadata": {},
   "outputs": [],
   "source": [
    "idkN=pd.DataFrame(idk) # alter datatype for matrix plot"
   ]
  },
  {
   "cell_type": "code",
   "execution_count": 54,
   "metadata": {
    "collapsed": true
   },
   "outputs": [
    {
     "name": "stdout",
     "output_type": "stream",
     "text": [
      "Predicted  0.0  1.0  2.0  All\n",
      "Actual                       \n",
      "0            1    9    1   11\n",
      "1            1    5    3    9\n",
      "2            2    4    4   10\n",
      "All          4   18    8   30\n",
      "Predicted  0.0  1.0  2.0  All\n",
      "Actual                       \n",
      "0            5    4    2   11\n",
      "1            3    4    2    9\n",
      "2            2    3    5   10\n",
      "All         10   11    9   30\n",
      "Predicted  0.0  1.0  2.0  All\n",
      "Actual                       \n",
      "0            6    3    2   11\n",
      "1            6    1    2    9\n",
      "2            4    2    4   10\n",
      "All         16    6    8   30\n",
      "Predicted  0.0  1.0  2.0  All\n",
      "Actual                       \n",
      "0            4    2    5   11\n",
      "1            4    4    1    9\n",
      "2            1    2    7   10\n",
      "All          9    8   13   30\n",
      "Predicted  0.0  1.0  2.0  All\n",
      "Actual                       \n",
      "0           11    0    0   11\n",
      "1            0    7    2    9\n",
      "2            0    0   10   10\n",
      "All         11    7   12   30\n"
     ]
    }
   ],
   "source": [
    "for n in range(0,5):\n",
    "    noise_m = pd.crosstab(test2, idkN.iloc[n], rownames=['Actual'], colnames=['Predicted'], margins=True)\n",
    "    print (pd.DataFrame(noise_m))"
   ]
  },
  {
   "cell_type": "code",
   "execution_count": 55,
   "metadata": {
    "collapsed": true
   },
   "outputs": [
    {
     "data": {
      "image/png": "[encoded data removed]",
      "text/plain": [
       "<Figure size 288x288 with 2 Axes>"
      ]
     },
     "metadata": {
      "needs_background": "light"
     },
     "output_type": "display_data"
    },
    {
     "data": {
      "image/png": "[encoded data removed]",
      "text/plain": [
       "<Figure size 288x288 with 2 Axes>"
      ]
     },
     "metadata": {
      "needs_background": "light"
     },
     "output_type": "display_data"
    },
    {
     "data": {
      "image/png": "[encoded data removed]",
      "text/plain": [
       "<Figure size 288x288 with 2 Axes>"
      ]
     },
     "metadata": {
      "needs_background": "light"
     },
     "output_type": "display_data"
    },
    {
     "data": {
      "image/png": "[encoded data removed]",
      "text/plain": [
       "<Figure size 288x288 with 2 Axes>"
      ]
     },
     "metadata": {
      "needs_background": "light"
     },
     "output_type": "display_data"
    },
    {
     "data": {
      "image/png": "[encoded data removed]",
      "text/plain": [
       "<Figure size 288x288 with 2 Axes>"
      ]
     },
     "metadata": {
      "needs_background": "light"
     },
     "output_type": "display_data"
    }
   ],
   "source": [
    "for n in range(0,5):\n",
    "    noise_m = pd.crosstab(test2, idkN.iloc[n])\n",
    "    plot_confusion_matrix(noise_m, title='Confusion matrix', cmap=plt.cm.gray_r)"
   ]
  }
 ],
 "metadata": {
  "kernelspec": {
   "display_name": "Python 3",
   "language": "python",
   "name": "python3"
  },
  "language_info": {
   "codemirror_mode": {
    "name": "ipython",
    "version": 3
   },
   "file_extension": ".py",
   "mimetype": "text/x-python",
   "name": "python",
   "nbconvert_exporter": "python",
   "pygments_lexer": "ipython3",
   "version": "3.7.6"
  }
 },
 "nbformat": 4,
 "nbformat_minor": 4
}
